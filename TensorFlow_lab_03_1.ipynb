{
  "nbformat": 4,
  "nbformat_minor": 0,
  "metadata": {
    "colab": {
      "name": "TensorFlow-lab-03-1.ipynb",
      "provenance": [],
      "private_outputs": true,
      "authorship_tag": "ABX9TyM475LH4Q4v9VX5PGyUY2dM",
      "include_colab_link": true
    },
    "kernelspec": {
      "name": "python3",
      "display_name": "Python 3"
    }
  },
  "cells": [
    {
      "cell_type": "markdown",
      "metadata": {
        "id": "view-in-github",
        "colab_type": "text"
      },
      "source": [
        "<a href=\"https://colab.research.google.com/github/ameliachoi/deep-learning-zero-to-all/blob/master/TensorFlow_lab_03_1.ipynb\" target=\"_parent\"><img src=\"https://colab.research.google.com/assets/colab-badge.svg\" alt=\"Open In Colab\"/></a>"
      ]
    },
    {
      "cell_type": "markdown",
      "metadata": {
        "id": "KLSpS2_CiJQN",
        "colab_type": "text"
      },
      "source": [
        "# Lab-03-1 Minimizing Cost show graph"
      ]
    },
    {
      "cell_type": "markdown",
      "metadata": {
        "id": "jLQO6NO1ioAs",
        "colab_type": "text"
      },
      "source": [
        "---"
      ]
    },
    {
      "cell_type": "code",
      "metadata": {
        "id": "bC667nJ7hxNE",
        "colab_type": "code",
        "colab": {}
      },
      "source": [
        "import tensorflow.compat.v1 as tf\n",
        "tf.disable_v2_behavior()\n",
        "tf.set_random_seed(777)  # for reprducibilty\n",
        "\n",
        "import matplotlib.pyplot as plt"
      ],
      "execution_count": 0,
      "outputs": []
    },
    {
      "cell_type": "markdown",
      "metadata": {
        "id": "JpKiIa27inEP",
        "colab_type": "text"
      },
      "source": [
        "## X and Y data"
      ]
    },
    {
      "cell_type": "code",
      "metadata": {
        "id": "OF6U0nh0iZrb",
        "colab_type": "code",
        "colab": {}
      },
      "source": [
        "X = [1, 2, 3]\n",
        "Y = [1, 2, 3]"
      ],
      "execution_count": 0,
      "outputs": []
    },
    {
      "cell_type": "markdown",
      "metadata": {
        "id": "wG4FaKS-itlC",
        "colab_type": "text"
      },
      "source": [
        "## Variable"
      ]
    },
    {
      "cell_type": "code",
      "metadata": {
        "id": "Lica90PQisTq",
        "colab_type": "code",
        "colab": {}
      },
      "source": [
        "W = tf.placeholder(tf.float32)"
      ],
      "execution_count": 0,
      "outputs": []
    },
    {
      "cell_type": "markdown",
      "metadata": {
        "id": "2nRNz_M1iyDL",
        "colab_type": "text"
      },
      "source": [
        "## Our model"
      ]
    },
    {
      "cell_type": "code",
      "metadata": {
        "id": "yPnltVzkixJy",
        "colab_type": "code",
        "colab": {}
      },
      "source": [
        "# our hypothesis for linear model X * W\n",
        "hypo = X * W\n",
        "\n",
        "# cost/loss func\n",
        "cost = tf.reduce_mean(tf.square(hypo - Y))"
      ],
      "execution_count": 0,
      "outputs": []
    },
    {
      "cell_type": "markdown",
      "metadata": {
        "id": "VvN3okzAi9hm",
        "colab_type": "text"
      },
      "source": [
        "## Preparing session"
      ]
    },
    {
      "cell_type": "code",
      "metadata": {
        "id": "OedPqyI0i7r3",
        "colab_type": "code",
        "colab": {}
      },
      "source": [
        "# launch the graph in a session\n",
        "sess = tf.Session()\n",
        "\n",
        "# initializes global variables in the graph\n",
        "sess.run(tf.global_variables_initializer())"
      ],
      "execution_count": 0,
      "outputs": []
    },
    {
      "cell_type": "markdown",
      "metadata": {
        "id": "gslEsALRjKU3",
        "colab_type": "text"
      },
      "source": [
        "## Getting cost"
      ]
    },
    {
      "cell_type": "code",
      "metadata": {
        "id": "_fztgommjJMg",
        "colab_type": "code",
        "colab": {}
      },
      "source": [
        "# variables for plotting cost function\n",
        "W_history = []\n",
        "cost_history = []\n",
        "\n",
        "for i in range(-30, 50):\n",
        "    curr_W = i * 0.1\n",
        "    curr_cost = sess.run(cost, feed_dict={W: curr_W})\n",
        "    W_history.append(curr_W)\n",
        "    cost_history.append(curr_cost)"
      ],
      "execution_count": 0,
      "outputs": []
    },
    {
      "cell_type": "markdown",
      "metadata": {
        "id": "wx7PwCbQjeWg",
        "colab_type": "text"
      },
      "source": [
        "## Show Graph"
      ]
    },
    {
      "cell_type": "code",
      "metadata": {
        "id": "ithxBhB5jdH6",
        "colab_type": "code",
        "colab": {}
      },
      "source": [
        "# show the cost function\n",
        "plt.plot(W_history, cost_history)\n",
        "plt.show()"
      ],
      "execution_count": 0,
      "outputs": []
    }
  ]
}