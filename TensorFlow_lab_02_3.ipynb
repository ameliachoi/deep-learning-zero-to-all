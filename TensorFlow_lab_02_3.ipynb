{
  "nbformat": 4,
  "nbformat_minor": 0,
  "metadata": {
    "colab": {
      "name": "TensorFlow-lab-02-3.ipynb",
      "provenance": [],
      "private_outputs": true,
      "authorship_tag": "ABX9TyMu0WkJIJjfuX64/z5TIY3a",
      "include_colab_link": true
    },
    "kernelspec": {
      "name": "python3",
      "display_name": "Python 3"
    }
  },
  "cells": [
    {
      "cell_type": "markdown",
      "metadata": {
        "id": "view-in-github",
        "colab_type": "text"
      },
      "source": [
        "<a href=\"https://colab.research.google.com/github/ameliachoi/deep-learning-zero-to-all/blob/master/TensorFlow_lab_02_3.ipynb\" target=\"_parent\"><img src=\"https://colab.research.google.com/assets/colab-badge.svg\" alt=\"Open In Colab\"/></a>"
      ]
    },
    {
      "cell_type": "markdown",
      "metadata": {
        "id": "eomQGWCKeptW",
        "colab_type": "text"
      },
      "source": [
        "# Lab-02-3 Linear Regression TensorFlow.org"
      ]
    },
    {
      "cell_type": "markdown",
      "metadata": {
        "id": "ynquWuoMfGD1",
        "colab_type": "text"
      },
      "source": [
        "---"
      ]
    },
    {
      "cell_type": "code",
      "metadata": {
        "id": "W1sGyOOWefKO",
        "colab_type": "code",
        "colab": {}
      },
      "source": [
        "import tensorflow.compat.v1 as tf\n",
        "tf.disable_v2_behavior()\n",
        "tf.set_random_seed(777)  # for reprducibilty"
      ],
      "execution_count": 0,
      "outputs": []
    },
    {
      "cell_type": "markdown",
      "metadata": {
        "id": "nQWzFUPmfURC",
        "colab_type": "text"
      },
      "source": [
        "## Variable"
      ]
    },
    {
      "cell_type": "code",
      "metadata": {
        "id": "B7_vJfeMfQQD",
        "colab_type": "code",
        "colab": {}
      },
      "source": [
        "# model parameters\n",
        "W = tf.Variable([.3], tf.float32)\n",
        "b = tf.Variable([-.3], tf.float32)\n",
        "\n",
        "# model input and output\n",
        "x = tf.placeholder(tf.float32)\n",
        "y = tf.placeholder(tf.float32)"
      ],
      "execution_count": 0,
      "outputs": []
    },
    {
      "cell_type": "markdown",
      "metadata": {
        "id": "8JX2BZs1fjq2",
        "colab_type": "text"
      },
      "source": [
        "## Our model"
      ]
    },
    {
      "cell_type": "code",
      "metadata": {
        "id": "edaQP3R2fiCw",
        "colab_type": "code",
        "colab": {}
      },
      "source": [
        "linear_model = x * W + b\n",
        "\n",
        "# cost/loss func\n",
        "loss = tf.reduce_sum(tf.square(linear_model - y))"
      ],
      "execution_count": 0,
      "outputs": []
    },
    {
      "cell_type": "markdown",
      "metadata": {
        "id": "VQDMSSjEftEN",
        "colab_type": "text"
      },
      "source": [
        "## Minimizing"
      ]
    },
    {
      "cell_type": "code",
      "metadata": {
        "id": "bfDZTWblfrwa",
        "colab_type": "code",
        "colab": {}
      },
      "source": [
        "# optimizer\n",
        "optimizer = tf.train.GradientDescentOptimizer(0.01)\n",
        "train = optimizer.minimize(loss) "
      ],
      "execution_count": 0,
      "outputs": []
    },
    {
      "cell_type": "markdown",
      "metadata": {
        "id": "oxyiBI55f5kB",
        "colab_type": "text"
      },
      "source": [
        "## X and Y data"
      ]
    },
    {
      "cell_type": "code",
      "metadata": {
        "id": "9EHHhcotf4rR",
        "colab_type": "code",
        "colab": {}
      },
      "source": [
        "# tranining data\n",
        "x_train = [1, 2, 3, 4]\n",
        "y_train = [0, -1, -2, -3]"
      ],
      "execution_count": 0,
      "outputs": []
    },
    {
      "cell_type": "markdown",
      "metadata": {
        "id": "fnkAZjCigEJi",
        "colab_type": "text"
      },
      "source": [
        "## Fitting the line"
      ]
    },
    {
      "cell_type": "code",
      "metadata": {
        "id": "Fmto5CqhgAgJ",
        "colab_type": "code",
        "colab": {}
      },
      "source": [
        "# training loop\n",
        "init = tf.global_variables_initializer()\n",
        "sess = tf.Session()\n",
        "sess.run(init) # reset values to wrong\n",
        "for i in range(1000):\n",
        "  sess.run(train, {x:x_train, y:y_train})"
      ],
      "execution_count": 0,
      "outputs": []
    },
    {
      "cell_type": "markdown",
      "metadata": {
        "id": "EKUeJ6gogl-Q",
        "colab_type": "text"
      },
      "source": [
        "## Evaluating training accuracy"
      ]
    },
    {
      "cell_type": "code",
      "metadata": {
        "id": "d6rG6ZWBgkCA",
        "colab_type": "code",
        "colab": {}
      },
      "source": [
        "# evaluate training accuracy\n",
        "curr_W, curr_b, curr_loss = sess.run([W, b, loss], {x: x_train, y: y_train})\n",
        "print('W: %s b: %s loss: %s' % (curr_W, curr_b, curr_loss))"
      ],
      "execution_count": 0,
      "outputs": []
    },
    {
      "cell_type": "markdown",
      "metadata": {
        "id": "ncDZ6h0WhFZE",
        "colab_type": "text"
      },
      "source": [
        "```\n",
        "W: [-0.9999969] b: [0.9999908] loss: 5.6999738e-11\n",
        "```"
      ]
    }
  ]
}