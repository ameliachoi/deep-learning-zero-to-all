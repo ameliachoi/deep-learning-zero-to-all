{
  "nbformat": 4,
  "nbformat_minor": 0,
  "metadata": {
    "colab": {
      "name": "TensorFlow-lab-02-1",
      "provenance": [],
      "private_outputs": true,
      "toc_visible": true,
      "authorship_tag": "ABX9TyMznQ3N0O7EFqDoShDebqOU",
      "include_colab_link": true
    },
    "kernelspec": {
      "name": "python3",
      "display_name": "Python 3"
    }
  },
  "cells": [
    {
      "cell_type": "markdown",
      "metadata": {
        "id": "view-in-github",
        "colab_type": "text"
      },
      "source": [
        "<a href=\"https://colab.research.google.com/github/ameliachoi/deep-learning-zero-to-all/blob/master/TensorFlow_lab_02_1.ipynb\" target=\"_parent\"><img src=\"https://colab.research.google.com/assets/colab-badge.svg\" alt=\"Open In Colab\"/></a>"
      ]
    },
    {
      "cell_type": "markdown",
      "metadata": {
        "id": "uGkEUGiiCz3D",
        "colab_type": "text"
      },
      "source": [
        "# Lab-02-1 Linear Regression"
      ]
    },
    {
      "cell_type": "markdown",
      "metadata": {
        "id": "ydXU3tTsDSJI",
        "colab_type": "text"
      },
      "source": [
        "---"
      ]
    },
    {
      "cell_type": "code",
      "metadata": {
        "id": "v53wwtNgCnvJ",
        "colab_type": "code",
        "colab": {}
      },
      "source": [
        "import tensorflow.compat.v1 as tf\n",
        "tf.disable_v2_behavior()\n",
        "tf.set_random_seed(777)  # for reprducibilty"
      ],
      "execution_count": 0,
      "outputs": []
    },
    {
      "cell_type": "markdown",
      "metadata": {
        "id": "GAoUiPrKDO7g",
        "colab_type": "text"
      },
      "source": [
        "---"
      ]
    },
    {
      "cell_type": "markdown",
      "metadata": {
        "id": "ppV0CL7TDESG",
        "colab_type": "text"
      },
      "source": [
        "## X and Y data"
      ]
    },
    {
      "cell_type": "code",
      "metadata": {
        "id": "6bPALNJiC_z-",
        "colab_type": "code",
        "colab": {}
      },
      "source": [
        "x_train = [1, 2, 3]\n",
        "y_train = [1, 2, 3]"
      ],
      "execution_count": 0,
      "outputs": []
    },
    {
      "cell_type": "markdown",
      "metadata": {
        "id": "-yBfuzbWDNMR",
        "colab_type": "text"
      },
      "source": [
        "## Variable"
      ]
    },
    {
      "cell_type": "code",
      "metadata": {
        "id": "VDTO2O1qDLdL",
        "colab_type": "code",
        "colab": {}
      },
      "source": [
        "# Try to find value for W and b to compute y_data = x_data * W + b  \n",
        "# We know that W should be 1 and b should be 0\n",
        "# But let's TensorFlow figure it out \n",
        "\n",
        "W = tf.Variable(tf.random_normal([1]), name='Weight')\n",
        "b = tf.Variable(tf.random_normal([1]), name='bias')"
      ],
      "execution_count": 0,
      "outputs": []
    },
    {
      "cell_type": "markdown",
      "metadata": {
        "id": "hZ8PKPOkDu9H",
        "colab_type": "text"
      },
      "source": [
        "## Our Model"
      ]
    },
    {
      "cell_type": "code",
      "metadata": {
        "id": "R056uzAeDtRP",
        "colab_type": "code",
        "colab": {}
      },
      "source": [
        "# our hypothesis Wx+b\n",
        "hypothesis = x_train * W + b\n",
        "\n",
        "# cost/loss function\n",
        "cost = tf.reduce_mean(tf.square(hypothesis - y_train))"
      ],
      "execution_count": 0,
      "outputs": []
    },
    {
      "cell_type": "markdown",
      "metadata": {
        "id": "8vMAZsXMEMAw",
        "colab_type": "text"
      },
      "source": [
        "## Minimizing"
      ]
    },
    {
      "cell_type": "code",
      "metadata": {
        "id": "inUQt8myEHkz",
        "colab_type": "code",
        "colab": {}
      },
      "source": [
        "optimizer = tf.train.GradientDescentOptimizer(learning_rate=0.01)\n",
        "train = optimizer.minimize(cost)"
      ],
      "execution_count": 0,
      "outputs": []
    },
    {
      "cell_type": "markdown",
      "metadata": {
        "id": "s6JesIzxEcak",
        "colab_type": "text"
      },
      "source": [
        "## Preparing Session"
      ]
    },
    {
      "cell_type": "code",
      "metadata": {
        "id": "zgMLBV9TEafx",
        "colab_type": "code",
        "colab": {}
      },
      "source": [
        "# Launch the graph in a session.\n",
        "sess = tf.Session()\n",
        "# Initializes global variables in the graph.\n",
        "sess.run(tf.global_variables_initializer())"
      ],
      "execution_count": 0,
      "outputs": []
    },
    {
      "cell_type": "markdown",
      "metadata": {
        "id": "9k_7ttR-FFif",
        "colab_type": "text"
      },
      "source": [
        "## Fitting the Line"
      ]
    },
    {
      "cell_type": "code",
      "metadata": {
        "id": "L35i29BjFCNo",
        "colab_type": "code",
        "colab": {}
      },
      "source": [
        "for step in range(2001):\n",
        "  sess.run(train)\n",
        "  if step % 200 == 0:\n",
        "    print(step, sess.run(cost), sess.run(W), sess.run(b))"
      ],
      "execution_count": 0,
      "outputs": []
    },
    {
      "cell_type": "markdown",
      "metadata": {
        "id": "M1-lKG8EFjgI",
        "colab_type": "text"
      },
      "source": [
        "#### Learns best fit W:[ 1.], b:[  0.]\n",
        "\n",
        "```\n",
        "0 3.51465 [-0.03875808] [ 0.40560108]\n",
        "200 0.0286106 [ 0.80354649] [ 0.44658491]\n",
        "400 0.010925 [ 0.87860364] [ 0.27596244]\n",
        "600 0.00417169 [ 0.92498434] [ 0.17052816]\n",
        "800 0.00159296 [ 0.95364493] [ 0.10537602]\n",
        "1000 0.000608266 [ 0.97135544] [ 0.06511588]\n",
        "1200 0.000232263 [ 0.98229945] [ 0.04023758]\n",
        "1400 8.86917e-05 [ 0.98906201] [ 0.02486444]\n",
        "1600 3.38653e-05 [ 0.99324113] [ 0.01536462]\n",
        "1800 1.2932e-05 [ 0.99582338] [ 0.00949448]\n",
        "2000 4.9383e-06 [ 0.99741906] [ 0.00586706]\n",
        "```"
      ]
    }
  ]
}