{
  "nbformat": 4,
  "nbformat_minor": 0,
  "metadata": {
    "colab": {
      "name": "TensorFlow-lab-02-2 .ipynb",
      "provenance": [],
      "private_outputs": true,
      "collapsed_sections": [],
      "authorship_tag": "ABX9TyNZmg7O1ri97SUjcXqnI83i",
      "include_colab_link": true
    },
    "kernelspec": {
      "name": "python3",
      "display_name": "Python 3"
    }
  },
  "cells": [
    {
      "cell_type": "markdown",
      "metadata": {
        "id": "view-in-github",
        "colab_type": "text"
      },
      "source": [
        "<a href=\"https://colab.research.google.com/github/ameliachoi/deep-learning-zero-to-all/blob/master/TensorFlow_lab_02_2_.ipynb\" target=\"_parent\"><img src=\"https://colab.research.google.com/assets/colab-badge.svg\" alt=\"Open In Colab\"/></a>"
      ]
    },
    {
      "cell_type": "markdown",
      "metadata": {
        "id": "Ym8wr85fRtfO",
        "colab_type": "text"
      },
      "source": [
        "# Lab-02-2 Linear Regression Feed"
      ]
    },
    {
      "cell_type": "code",
      "metadata": {
        "id": "L8r0xp_MRbEI",
        "colab_type": "code",
        "colab": {}
      },
      "source": [
        "import tensorflow.compat.v1 as tf\n",
        "tf.disable_v2_behavior()\n",
        "tf.set_random_seed(777)  # for reprducibilty"
      ],
      "execution_count": 0,
      "outputs": []
    },
    {
      "cell_type": "markdown",
      "metadata": {
        "id": "9Us9CnQKWsn9",
        "colab_type": "text"
      },
      "source": [
        "## Variable"
      ]
    },
    {
      "cell_type": "code",
      "metadata": {
        "id": "8OmbxB_XSEXk",
        "colab_type": "code",
        "colab": {}
      },
      "source": [
        "# Try to find value for W and b to compute y_data = x_data * W + b  \n",
        "# We know that W should be 1 and b should be 0\n",
        "# But let's TensorFlow figure it out \n",
        "W = tf.Variable(tf.random_normal([1]), name='weight')\n",
        "b = tf.Variable(tf.random_normal([1]), name='bias')"
      ],
      "execution_count": 0,
      "outputs": []
    },
    {
      "cell_type": "markdown",
      "metadata": {
        "id": "3xqbicp3XG6L",
        "colab_type": "text"
      },
      "source": [
        "## X and Y data"
      ]
    },
    {
      "cell_type": "code",
      "metadata": {
        "id": "vlDfLtKzW7Mn",
        "colab_type": "code",
        "colab": {}
      },
      "source": [
        "# Now we can use X and Y in place of x_data and y_data\n",
        "# placeholders for a tensor that will be always fed using fed_dict\n",
        "# see http://stackoverflow.com/questions/36693740/\n",
        "X = tf.placeholder(tf.float32, shape=[None])\n",
        "Y = tf.placeholder(tf.float32, shape=[None])"
      ],
      "execution_count": 0,
      "outputs": []
    },
    {
      "cell_type": "markdown",
      "metadata": {
        "id": "qrw92M_5Xv5M",
        "colab_type": "text"
      },
      "source": [
        "## Our model"
      ]
    },
    {
      "cell_type": "code",
      "metadata": {
        "id": "IV8F2x8wXq6F",
        "colab_type": "code",
        "colab": {}
      },
      "source": [
        "# our hypothesis XW+b\n",
        "hypothesis = X * W + b\n",
        "\n",
        "# cost/loss func\n",
        "cost = tf.reduce_mean(tf.square(hypothesis - Y))"
      ],
      "execution_count": 0,
      "outputs": []
    },
    {
      "cell_type": "markdown",
      "metadata": {
        "id": "Q3fqh6C9YAc1",
        "colab_type": "text"
      },
      "source": [
        "## Minimizing"
      ]
    },
    {
      "cell_type": "code",
      "metadata": {
        "id": "WAOrBl_-X_H_",
        "colab_type": "code",
        "colab": {}
      },
      "source": [
        "optimizer = tf.train.GradientDescentOptimizer(learning_rate=0.01)\n",
        "train = optimizer.minimize(cost)"
      ],
      "execution_count": 0,
      "outputs": []
    },
    {
      "cell_type": "markdown",
      "metadata": {
        "id": "eKIBNEA9YKnj",
        "colab_type": "text"
      },
      "source": [
        "## Preparing session"
      ]
    },
    {
      "cell_type": "code",
      "metadata": {
        "id": "n6TinPoLYJn3",
        "colab_type": "code",
        "colab": {}
      },
      "source": [
        "# launch the graph in a session\n",
        "sess = tf.Session()\n",
        "\n",
        "# initializes global variables in the graph\n",
        "sess.run(tf.global_variables_initializer())"
      ],
      "execution_count": 0,
      "outputs": []
    },
    {
      "cell_type": "markdown",
      "metadata": {
        "id": "MzsSVEOOYZJ5",
        "colab_type": "text"
      },
      "source": [
        "## Fitting the line"
      ]
    },
    {
      "cell_type": "code",
      "metadata": {
        "id": "0f7JI9VWYXte",
        "colab_type": "code",
        "colab": {}
      },
      "source": [
        "for step in range(2001):\n",
        "    cost_val, W_val, b_val, _ = \\\n",
        "        sess.run([cost, W, b, train],\n",
        "                 feed_dict={X: [1, 2, 3], Y: [1, 2, 3]})\n",
        "    if step % 200 == 0:\n",
        "        print(step, cost_val, W_val, b_val)"
      ],
      "execution_count": 0,
      "outputs": []
    },
    {
      "cell_type": "markdown",
      "metadata": {
        "id": "DKQHtPONZ4v_",
        "colab_type": "text"
      },
      "source": [
        "#### Learns best fit W:[ 1.],  b:[ 0]\n",
        "```\n",
        "...\n",
        "1800 1.0094126e-08 [0.9998837] [0.00026458]\n",
        "2000 3.875982e-09 [0.99992776] [0.00016401]\n",
        "```"
      ]
    },
    {
      "cell_type": "markdown",
      "metadata": {
        "id": "_aeHS-6_bflM",
        "colab_type": "text"
      },
      "source": [
        "## Testing our model"
      ]
    },
    {
      "cell_type": "code",
      "metadata": {
        "id": "BmorhLobYwx1",
        "colab_type": "code",
        "colab": {}
      },
      "source": [
        "print(sess.run(hypothesis, feed_dict={X: [5]}))\n",
        "print(sess.run(hypothesis, feed_dict={X: [2.5]}))\n",
        "print(sess.run(hypothesis, feed_dict={X: [1.5, 3.5]}))"
      ],
      "execution_count": 0,
      "outputs": []
    },
    {
      "cell_type": "markdown",
      "metadata": {
        "id": "z-Ty4ww5cqir",
        "colab_type": "text"
      },
      "source": [
        "```\n",
        "[4.9998026]\n",
        "[2.4999833]\n",
        "[1.5000557 3.4999113]\n",
        "```"
      ]
    },
    {
      "cell_type": "markdown",
      "metadata": {
        "id": "g-Np9QCzcqbs",
        "colab_type": "text"
      },
      "source": [
        "## Fitting the line with new training data"
      ]
    },
    {
      "cell_type": "code",
      "metadata": {
        "id": "fMN6Osonbzwt",
        "colab_type": "code",
        "colab": {}
      },
      "source": [
        "for step in range(2001):\n",
        "    cost_val, W_val, b_val, _ = \\\n",
        "        sess.run([cost, W, b, train],\n",
        "                 feed_dict={X: [1, 2, 3, 4, 5],\n",
        "                            Y: [2.1, 3.1, 4.1, 5.1, 6.1]})\n",
        "    if step % 200 == 0:\n",
        "        print(step, cost_val, W_val, b_val)"
      ],
      "execution_count": 0,
      "outputs": []
    },
    {
      "cell_type": "markdown",
      "metadata": {
        "id": "EBbJqvfZdB2L",
        "colab_type": "text"
      },
      "source": [
        "## Training our model"
      ]
    },
    {
      "cell_type": "code",
      "metadata": {
        "id": "yzc0Ypymc-Xu",
        "colab_type": "code",
        "colab": {}
      },
      "source": [
        "print(sess.run(hypothesis, feed_dict={X: [5]}))\n",
        "print(sess.run(hypothesis, feed_dict={X: [2.5]}))\n",
        "print(sess.run(hypothesis, feed_dict={X: [1.5, 3.5]}))"
      ],
      "execution_count": 0,
      "outputs": []
    }
  ]
}