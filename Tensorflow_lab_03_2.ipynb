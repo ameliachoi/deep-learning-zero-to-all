{
  "nbformat": 4,
  "nbformat_minor": 0,
  "metadata": {
    "colab": {
      "name": "Tensorflow-lab-03-2.ipynb",
      "provenance": [],
      "private_outputs": true,
      "authorship_tag": "ABX9TyNHX94ywKXvv+FkdwV6WhMN",
      "include_colab_link": true
    },
    "kernelspec": {
      "name": "python3",
      "display_name": "Python 3"
    }
  },
  "cells": [
    {
      "cell_type": "markdown",
      "metadata": {
        "id": "view-in-github",
        "colab_type": "text"
      },
      "source": [
        "<a href=\"https://colab.research.google.com/github/ameliachoi/deep-learning-zero-to-all/blob/master/Tensorflow_lab_03_2.ipynb\" target=\"_parent\"><img src=\"https://colab.research.google.com/assets/colab-badge.svg\" alt=\"Open In Colab\"/></a>"
      ]
    },
    {
      "cell_type": "markdown",
      "metadata": {
        "id": "VhRmvH_I6-lc",
        "colab_type": "text"
      },
      "source": [
        "# Lab-03-2 Minimizing Cost Gradient Update"
      ]
    },
    {
      "cell_type": "markdown",
      "metadata": {
        "id": "sPAaouiG7Dbc",
        "colab_type": "text"
      },
      "source": [
        "---"
      ]
    },
    {
      "cell_type": "code",
      "metadata": {
        "id": "tMorIGmU67Xj",
        "colab_type": "code",
        "colab": {}
      },
      "source": [
        "import tensorflow.compat.v1 as tf\n",
        "tf.disable_v2_behavior()\n",
        "tf.set_random_seed(777)  # for reprducibilty"
      ],
      "execution_count": 0,
      "outputs": []
    },
    {
      "cell_type": "markdown",
      "metadata": {
        "id": "s7Q5KoxE7M_C",
        "colab_type": "text"
      },
      "source": [
        "## X and Y data"
      ]
    },
    {
      "cell_type": "code",
      "metadata": {
        "id": "lz-QQj837JGb",
        "colab_type": "code",
        "colab": {}
      },
      "source": [
        "x_data = [1, 2, 3]\n",
        "y_data = [1, 2, 3]"
      ],
      "execution_count": 0,
      "outputs": []
    },
    {
      "cell_type": "markdown",
      "metadata": {
        "id": "QBdBE0Ir7Tx8",
        "colab_type": "text"
      },
      "source": [
        "## Variable"
      ]
    },
    {
      "cell_type": "code",
      "metadata": {
        "id": "Ei_KDnO_7SXa",
        "colab_type": "code",
        "colab": {}
      },
      "source": [
        "# try to find values for W and b to compute y_data = W * x_data + b\n",
        "# we know that W should be 1 and b should be 0\n",
        "# but let's use TensorFlow to figure it out\n",
        "\n",
        "W = tf.Variable(tf.random_normal([1]), name='weight')\n",
        "\n",
        "X = tf.placeholder(tf.float32)\n",
        "Y = tf.placeholder(tf.float32)"
      ],
      "execution_count": 0,
      "outputs": []
    },
    {
      "cell_type": "markdown",
      "metadata": {
        "id": "iqJipbrE7rGO",
        "colab_type": "text"
      },
      "source": [
        "## Our model"
      ]
    },
    {
      "cell_type": "code",
      "metadata": {
        "id": "1abpicbg7qAT",
        "colab_type": "code",
        "colab": {}
      },
      "source": [
        "# our hypothesis for linear model X * W\n",
        "hypo = X * W\n",
        "\n",
        "# cost/loss function\n",
        "cost = tf.reduce_mean(tf.square(hypo - Y))"
      ],
      "execution_count": 0,
      "outputs": []
    },
    {
      "cell_type": "markdown",
      "metadata": {
        "id": "HESExrdn8I-L",
        "colab_type": "text"
      },
      "source": [
        "## Minimizing"
      ]
    },
    {
      "cell_type": "code",
      "metadata": {
        "id": "j9J7XzWv73lf",
        "colab_type": "code",
        "colab": {}
      },
      "source": [
        "# minimize : Gradient Descent using derivative: W -= learning_rate + derivative\n",
        "learning_rate = 0.1\n",
        "gradient = tf.reduce_mean((W * X - Y) * X)\n",
        "descent = W - learning_rate * gradient\n",
        "update = W.assign(descent)"
      ],
      "execution_count": 0,
      "outputs": []
    },
    {
      "cell_type": "markdown",
      "metadata": {
        "id": "rK6ZHPGi8lGs",
        "colab_type": "text"
      },
      "source": [
        "## Preparing session"
      ]
    },
    {
      "cell_type": "code",
      "metadata": {
        "id": "ox0yn1si8j--",
        "colab_type": "code",
        "colab": {}
      },
      "source": [
        "# launch the graph in a session\n",
        "sess = tf.Session()\n",
        "# initializes global variables in the graph\n",
        "sess.run(tf.global_variables_initializer())"
      ],
      "execution_count": 0,
      "outputs": []
    },
    {
      "cell_type": "markdown",
      "metadata": {
        "id": "qONa4SHC8w5M",
        "colab_type": "text"
      },
      "source": [
        "## Fitting the line"
      ]
    },
    {
      "cell_type": "code",
      "metadata": {
        "id": "YS3p1RpS8wOP",
        "colab_type": "code",
        "colab": {}
      },
      "source": [
        "for step in range(21):\n",
        "    sess.run(update, feed_dict={X:x_data, Y:y_data})\n",
        "    print(step, sess.run(cost, feed_dict={X: x_data, Y: y_data}), sess.run(W))"
      ],
      "execution_count": 0,
      "outputs": []
    },
    {
      "cell_type": "markdown",
      "metadata": {
        "id": "CHXc8erG9Soa",
        "colab_type": "text"
      },
      "source": [
        "```\n",
        "0 0.22753704 [0.77918804]\n",
        "1 0.06472163 [0.8822336]\n",
        "2 0.018409716 [0.93719125]\n",
        "3 0.005236534 [0.966502]\n",
        "4 0.0014895027 [0.9821344]\n",
        "5 0.000423682 [0.99047166]\n",
        "6 0.00012051514 [0.9949182]\n",
        "7 3.4279296e-05 [0.9972897]\n",
        "8 9.750313e-06 [0.9985545]\n",
        "9 2.7733452e-06 [0.9992291]\n",
        "10 7.889824e-07 [0.99958885]\n",
        "11 2.243758e-07 [0.9997807]\n",
        "12 6.384909e-08 [0.99988306]\n",
        "13 1.8124851e-08 [0.99993765]\n",
        "14 5.154282e-09 [0.99996674]\n",
        "15 1.4765504e-09 [0.99998224]\n",
        "16 4.1801348e-10 [0.9999905]\n",
        "17 1.2039081e-10 [0.99999493]\n",
        "18 3.389407e-11 [0.9999973]\n",
        "19 9.549694e-12 [0.99999857]\n",
        "20 2.8954616e-12 [0.9999992]\n",
        "```"
      ]
    }
  ]
}